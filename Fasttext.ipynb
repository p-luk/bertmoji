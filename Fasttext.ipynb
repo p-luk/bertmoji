{
  "nbformat": 4,
  "nbformat_minor": 0,
  "metadata": {
    "colab": {
      "name": "Fasttext_Sel.ipynb",
      "provenance": [],
      "include_colab_link": true
    },
    "kernelspec": {
      "name": "python3",
      "display_name": "Python 3"
    }
  },
  "cells": [
    {
      "cell_type": "markdown",
      "metadata": {
        "id": "view-in-github",
        "colab_type": "text"
      },
      "source": [
        "<a href=\"https://colab.research.google.com/github/p-luk/transformers/blob/master/Fasttext.ipynb\" target=\"_parent\"><img src=\"https://colab.research.google.com/assets/colab-badge.svg\" alt=\"Open In Colab\"/></a>"
      ]
    },
    {
      "cell_type": "markdown",
      "metadata": {
        "id": "65Bz-RlzEkbk",
        "colab_type": "text"
      },
      "source": [
        "**Install** **FastText**"
      ]
    },
    {
      "cell_type": "code",
      "metadata": {
        "id": "2yB29_32ULIj",
        "colab_type": "code",
        "colab": {}
      },
      "source": [
        "import numpy as np\n",
        "import pandas as pd"
      ],
      "execution_count": 0,
      "outputs": []
    },
    {
      "cell_type": "code",
      "metadata": {
        "id": "W0qppYKqiv1o",
        "colab_type": "code",
        "outputId": "be473506-7b78-4809-bb8e-6300846fbfe5",
        "colab": {
          "base_uri": "https://localhost:8080/",
          "height": 267
        }
      },
      "source": [
        "!pip install fasttext"
      ],
      "execution_count": 2,
      "outputs": [
        {
          "output_type": "stream",
          "text": [
            "Collecting fasttext\n",
            "\u001b[?25l  Downloading https://files.pythonhosted.org/packages/f8/85/e2b368ab6d3528827b147fdb814f8189acc981a4bc2f99ab894650e05c40/fasttext-0.9.2.tar.gz (68kB)\n",
            "\r\u001b[K     |████▊                           | 10kB 17.8MB/s eta 0:00:01\r\u001b[K     |█████████▌                      | 20kB 1.7MB/s eta 0:00:01\r\u001b[K     |██████████████▎                 | 30kB 2.1MB/s eta 0:00:01\r\u001b[K     |███████████████████             | 40kB 2.4MB/s eta 0:00:01\r\u001b[K     |███████████████████████▉        | 51kB 2.0MB/s eta 0:00:01\r\u001b[K     |████████████████████████████▋   | 61kB 2.2MB/s eta 0:00:01\r\u001b[K     |████████████████████████████████| 71kB 2.0MB/s \n",
            "\u001b[?25hRequirement already satisfied: pybind11>=2.2 in /usr/local/lib/python3.6/dist-packages (from fasttext) (2.5.0)\n",
            "Requirement already satisfied: setuptools>=0.7.0 in /usr/local/lib/python3.6/dist-packages (from fasttext) (46.1.3)\n",
            "Requirement already satisfied: numpy in /usr/local/lib/python3.6/dist-packages (from fasttext) (1.18.4)\n",
            "Building wheels for collected packages: fasttext\n",
            "  Building wheel for fasttext (setup.py) ... \u001b[?25l\u001b[?25hdone\n",
            "  Created wheel for fasttext: filename=fasttext-0.9.2-cp36-cp36m-linux_x86_64.whl size=3021234 sha256=3c334b642e35bc341bd3f6eff7128da8776ec2b75ac59c754c4e748f01d0351e\n",
            "  Stored in directory: /root/.cache/pip/wheels/98/ba/7f/b154944a1cf5a8cee91c154b75231136cc3a3321ab0e30f592\n",
            "Successfully built fasttext\n",
            "Installing collected packages: fasttext\n",
            "Successfully installed fasttext-0.9.2\n"
          ],
          "name": "stdout"
        }
      ]
    },
    {
      "cell_type": "code",
      "metadata": {
        "id": "RnqCtCuikeQu",
        "colab_type": "code",
        "colab": {}
      },
      "source": [
        "import fasttext"
      ],
      "execution_count": 0,
      "outputs": []
    },
    {
      "cell_type": "markdown",
      "metadata": {
        "id": "lZSnZzqJFb8i",
        "colab_type": "text"
      },
      "source": [
        " **Pull Dataset**"
      ]
    },
    {
      "cell_type": "code",
      "metadata": {
        "id": "tlvzL4dxGjJj",
        "colab_type": "code",
        "outputId": "e42e2f2f-82bc-4786-e09e-e1e692bc4ca7",
        "colab": {
          "base_uri": "https://localhost:8080/",
          "height": 125
        }
      },
      "source": [
        "from google.colab import drive \n",
        "drive.mount('/content/drive')"
      ],
      "execution_count": 4,
      "outputs": [
        {
          "output_type": "stream",
          "text": [
            "Go to this URL in a browser: https://accounts.google.com/o/oauth2/auth?client_id=947318989803-6bn6qk8qdgf4n4g3pfee6491hc0brc4i.apps.googleusercontent.com&redirect_uri=urn%3aietf%3awg%3aoauth%3a2.0%3aoob&response_type=code&scope=email%20https%3a%2f%2fwww.googleapis.com%2fauth%2fdocs.test%20https%3a%2f%2fwww.googleapis.com%2fauth%2fdrive%20https%3a%2f%2fwww.googleapis.com%2fauth%2fdrive.photos.readonly%20https%3a%2f%2fwww.googleapis.com%2fauth%2fpeopleapi.readonly\n",
            "\n",
            "Enter your authorization code:\n",
            "··········\n",
            "Mounted at /content/drive\n"
          ],
          "name": "stdout"
        }
      ]
    },
    {
      "cell_type": "code",
      "metadata": {
        "id": "BtNxEZoRHeIn",
        "colab_type": "code",
        "colab": {}
      },
      "source": [
        " \n",
        "train=pd.read_csv('/content/drive/My Drive/NLP Emoji Project/Dataset/mini_train.txt',delimiter=\"\\t\",header=None,names=[\"label\", \"data\"])\n",
        "test=pd.read_csv('/content/drive/My Drive/NLP Emoji Project/Dataset/mini_test.txt',delimiter=\"\\t\",header=None,names=[\"label\", \"data\"])"
      ],
      "execution_count": 0,
      "outputs": []
    },
    {
      "cell_type": "markdown",
      "metadata": {
        "id": "ymCwQohA_8RW",
        "colab_type": "text"
      },
      "source": [
        "# **Fasttext Model**"
      ]
    },
    {
      "cell_type": "markdown",
      "metadata": {
        "id": "WU1fzI-0GRWP",
        "colab_type": "text"
      },
      "source": [
        "**Train**"
      ]
    },
    {
      "cell_type": "code",
      "metadata": {
        "id": "wL8uuguX083B",
        "colab_type": "code",
        "colab": {}
      },
      "source": [
        "model=fasttext.train_supervised(input='/content/drive/My Drive/NLP Emoji Project/Dataset/mini_train.txt',epoch=10)\n"
      ],
      "execution_count": 0,
      "outputs": []
    },
    {
      "cell_type": "markdown",
      "metadata": {
        "id": "5aHJq5QnGYfW",
        "colab_type": "text"
      },
      "source": [
        "**Test**"
      ]
    },
    {
      "cell_type": "code",
      "metadata": {
        "id": "vYEqOlqZ725s",
        "colab_type": "code",
        "colab": {
          "base_uri": "https://localhost:8080/",
          "height": 34
        },
        "outputId": "6bffbfc4-faf5-4266-eea9-5a00298e07de"
      },
      "source": [
        "model.test('/content/drive/My Drive/NLP Emoji Project/Dataset/mini_test.txt')"
      ],
      "execution_count": 7,
      "outputs": [
        {
          "output_type": "execute_result",
          "data": {
            "text/plain": [
              "(95770, 0.40491803278688526, 0.40491803278688526)"
            ]
          },
          "metadata": {
            "tags": []
          },
          "execution_count": 7
        }
      ]
    },
    {
      "cell_type": "code",
      "metadata": {
        "id": "BXoXW6_a0Ehm",
        "colab_type": "code",
        "colab": {}
      },
      "source": [
        "test_label=test\n",
        "predicted_label=[]\n",
        "for r in range(len(test_label['data'])):\n",
        "  label=model.predict(test['data'].iloc[r])[0]\n",
        "  predicted_label.append(label[-1])\n",
        "test_label['predicted']=predicted_label"
      ],
      "execution_count": 0,
      "outputs": []
    },
    {
      "cell_type": "code",
      "metadata": {
        "id": "wpwjcQHkDY7o",
        "colab_type": "code",
        "colab": {
          "base_uri": "https://localhost:8080/",
          "height": 34
        },
        "outputId": "8d71f4c9-1223-4c88-e3be-7bdcb87426bb"
      },
      "source": [
        "from sklearn.metrics import f1_score\n",
        "\n",
        "from sklearn.metrics import precision_score\n",
        "from sklearn.metrics import recall_score\n",
        "print(precision_score(y_true=test_label['label'],y_pred=test_label['predicted'],average='micro'))\n",
        "f:f1_score(y_true=test_label['label'],y_pred=test_label['predicted'],average='micro')\n",
        "r:recall_score(y_true=test_label['label'],y_pred=test_label['predicted'],average='micro')"
      ],
      "execution_count": 9,
      "outputs": [
        {
          "output_type": "stream",
          "text": [
            "0.404500365458912\n"
          ],
          "name": "stdout"
        }
      ]
    },
    {
      "cell_type": "code",
      "metadata": {
        "id": "WgYF1xFijJpj",
        "colab_type": "code",
        "colab": {
          "base_uri": "https://localhost:8080/",
          "height": 34
        },
        "outputId": "484bc49a-b4d1-4702-f709-4a2b098bb4be"
      },
      "source": [
        "print(precision_score(y_true=test_label['label'],y_pred=test_label['predicted'],average='micro'))"
      ],
      "execution_count": 10,
      "outputs": [
        {
          "output_type": "stream",
          "text": [
            "0.404500365458912\n"
          ],
          "name": "stdout"
        }
      ]
    },
    {
      "cell_type": "code",
      "metadata": {
        "id": "LmXieiyOjavz",
        "colab_type": "code",
        "colab": {
          "base_uri": "https://localhost:8080/",
          "height": 34
        },
        "outputId": "70b165e9-7e4b-443b-f559-8bfb06c16e5b"
      },
      "source": [
        "print(recall_score(y_true=test_label['label'],y_pred=test_label['predicted'],average='micro'))"
      ],
      "execution_count": 11,
      "outputs": [
        {
          "output_type": "stream",
          "text": [
            "0.404500365458912\n"
          ],
          "name": "stdout"
        }
      ]
    },
    {
      "cell_type": "code",
      "metadata": {
        "id": "MpFwYKH-jXAa",
        "colab_type": "code",
        "colab": {
          "base_uri": "https://localhost:8080/",
          "height": 34
        },
        "outputId": "11bbf2a8-edc6-41eb-c60d-b519553363e3"
      },
      "source": [
        "print(f1_score(y_true=test_label['label'],y_pred=test_label['predicted'],average='micro'))"
      ],
      "execution_count": 12,
      "outputs": [
        {
          "output_type": "stream",
          "text": [
            "0.404500365458912\n"
          ],
          "name": "stdout"
        }
      ]
    },
    {
      "cell_type": "code",
      "metadata": {
        "id": "LWgnGRVjE56k",
        "colab_type": "code",
        "colab": {
          "base_uri": "https://localhost:8080/",
          "height": 496
        },
        "outputId": "1b3beeaa-7e50-48ca-966a-890c6fe2317a"
      },
      "source": [
        "from sklearn import metrics\n",
        "\n",
        "print(metrics.classification_report(y_true=test_label['label'],y_pred=test_label['predicted'],digits = 3))\n"
      ],
      "execution_count": 13,
      "outputs": [
        {
          "output_type": "stream",
          "text": [
            "                                           precision    recall  f1-score   support\n",
            "\n",
            "__label__:beaming_face_with_smiling_eyes:      0.181     0.154     0.166      6079\n",
            "                    __label__:blue_heart:      0.226     0.092     0.131      1825\n",
            "                  __label__:broken_heart:      0.354     0.358     0.356      4722\n",
            "                __label__:clapping_hands:      0.594     0.751     0.663      5986\n",
            "                   __label__:crying_face:      0.252     0.187     0.214      3956\n",
            "           __label__:face_blowing_a_kiss:      0.260     0.227     0.242      3344\n",
            "        __label__:face_with_tears_of_joy:      0.191     0.181     0.186      5062\n",
            "                          __label__:fire:      0.530     0.584     0.556      4631\n",
            "                  __label__:folded_hands:      0.460     0.486     0.473      4177\n",
            "      __label__:grinning_face_with_sweat:      0.234     0.324     0.272      7604\n",
            "                    __label__:heart_suit:      0.179     0.106     0.133      3480\n",
            "            __label__:loudly_crying_face:      0.533     0.763     0.627      7973\n",
            "                     __label__:red_heart:      0.194     0.164     0.177      3809\n",
            " __label__:rolling_on_the_floor_laughing:      0.197     0.141     0.165      4540\n",
            "  __label__:smiling_face_with_heart-eyes:      0.992     0.915     0.952      9629\n",
            "__label__:smiling_face_with_smiling_eyes:      0.221     0.238     0.229      4142\n",
            "               __label__:sparkling_heart:      0.223     0.185     0.202      3389\n",
            "                 __label__:thinking_face:      0.410     0.489     0.446      4811\n",
            "                     __label__:thumbs_up:      0.297     0.289     0.293      4142\n",
            "                    __label__:two_hearts:      0.157     0.062     0.089      2469\n",
            "\n",
            "                                 accuracy                          0.405     95770\n",
            "                                macro avg      0.334     0.335     0.329     95770\n",
            "                             weighted avg      0.387     0.405     0.390     95770\n",
            "\n"
          ],
          "name": "stdout"
        }
      ]
    }
  ]
}